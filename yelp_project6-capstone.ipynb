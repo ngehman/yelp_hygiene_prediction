{
 "cells": [
  {
   "cell_type": "code",
   "execution_count": 1,
   "metadata": {
    "collapsed": false,
    "scrolled": true
   },
   "outputs": [
    {
     "name": "stdout",
     "output_type": "stream",
     "text": [
      "Populating the interactive namespace from numpy and matplotlib\n"
     ]
    }
   ],
   "source": [
    "import tarfile\n",
    "import os\n",
    "import sys\n",
    "import pandas as pd\n",
    "import numpy as np\n",
    "import matplotlib\n",
    "import matplotlib.pyplot as plt\n",
    "import textblob as tb\n",
    "\n",
    "np.random.seed(100)\n",
    "\n",
    "path = \"C:/Users/E12473/Desktop/kaggle/yelp/prediction/\"\n",
    "file_name = 'Hygiene.tar.gz'\n",
    "\n",
    "%pylab inline"
   ]
  },
  {
   "cell_type": "markdown",
   "metadata": {},
   "source": [
    "### Unzip Compressed Files"
   ]
  },
  {
   "cell_type": "code",
   "execution_count": 2,
   "metadata": {
    "collapsed": false
   },
   "outputs": [
    {
     "name": "stdout",
     "output_type": "stream",
     "text": [
      "Hygiene\n",
      "Hygiene/hygiene.dat.additional\n",
      "Hygiene/hygiene.dat\n",
      "Hygiene/hygiene.dat.labels\n"
     ]
    }
   ],
   "source": [
    "df = pd.DataFrame()\n",
    "# open the tarfile and use the 'r:gz' parameter\n",
    "# the 'r:gz' mode enables gzip compression reading\n",
    "tfile = tarfile.open(path + file_name, 'r:gz')\n",
    " \n",
    "# 99.9% of the time you just want to extract all\n",
    "# the contents of the archive.\n",
    "for item in tfile:\n",
    "    tfile.extract(item, '.')\n",
    "    print item.name"
   ]
  },
  {
   "cell_type": "markdown",
   "metadata": {},
   "source": [
    "### Import Labels"
   ]
  },
  {
   "cell_type": "code",
   "execution_count": 3,
   "metadata": {
    "collapsed": false
   },
   "outputs": [
    {
     "name": "stdout",
     "output_type": "stream",
     "text": [
      "(13299, 1)\n"
     ]
    },
    {
     "data": {
      "text/html": [
       "<div>\n",
       "<table border=\"1\" class=\"dataframe\">\n",
       "  <thead>\n",
       "    <tr style=\"text-align: right;\">\n",
       "      <th></th>\n",
       "      <th>failed_ind</th>\n",
       "    </tr>\n",
       "  </thead>\n",
       "  <tbody>\n",
       "    <tr>\n",
       "      <th>0</th>\n",
       "      <td>1</td>\n",
       "    </tr>\n",
       "    <tr>\n",
       "      <th>1</th>\n",
       "      <td>1</td>\n",
       "    </tr>\n",
       "    <tr>\n",
       "      <th>2</th>\n",
       "      <td>1</td>\n",
       "    </tr>\n",
       "    <tr>\n",
       "      <th>3</th>\n",
       "      <td>0</td>\n",
       "    </tr>\n",
       "    <tr>\n",
       "      <th>4</th>\n",
       "      <td>0</td>\n",
       "    </tr>\n",
       "  </tbody>\n",
       "</table>\n",
       "</div>"
      ],
      "text/plain": [
       "  failed_ind\n",
       "0          1\n",
       "1          1\n",
       "2          1\n",
       "3          0\n",
       "4          0"
      ]
     },
     "execution_count": 3,
     "metadata": {},
     "output_type": "execute_result"
    }
   ],
   "source": [
    "#hygiene.dat.labels: For the first 546 lines, a binary label (0 or 1) is used where a 0 indicates that the restaurant has \n",
    "    #passed the latest public health inspection test, while a 1 means that the restaurant has failed the test. The rest of \n",
    "    #the lines have \"[None]\" in their label field implying that they are part of the testing subset.\n",
    "\n",
    "df_labels = pd.read_csv('Hygiene/hygiene.dat.labels', names=['failed_ind'])\n",
    "\n",
    "df_train_y = df_labels[df_labels.failed_ind != \"[None]\"]\n",
    "\n",
    "print df_labels.shape\n",
    "df_labels.head()"
   ]
  },
  {
   "cell_type": "markdown",
   "metadata": {},
   "source": [
    "### Import & Clean Reviews"
   ]
  },
  {
   "cell_type": "code",
   "execution_count": 4,
   "metadata": {
    "collapsed": true
   },
   "outputs": [],
   "source": [
    "def sentiment(df_text_column):\n",
    "    \"\"\"Function that calculates the sentiment and polarity for each review\n",
    "    \n",
    "    Parameters\n",
    "    ----------\n",
    "    df_text_column: Pandas data frame column\n",
    "    \"\"\"\n",
    "    wiki = []\n",
    "    ls_index = []\n",
    "    \n",
    "    for index, string in df_text_column.iteritems():\n",
    "        text_blob = tb.TextBlob(str(string))\n",
    "        \n",
    "        wiki.append(text_blob.sentiment)\n",
    "        ls_index.append(index)\n",
    "        \n",
    "    df_temp = pd.DataFrame(wiki, columns = ['polarity','subjectivity'], index=ls_index)\n",
    "    return df_temp"
   ]
  },
  {
   "cell_type": "code",
   "execution_count": 5,
   "metadata": {
    "collapsed": true
   },
   "outputs": [],
   "source": [
    "def pos_dummies(df_text_column):\n",
    "    \"\"\"Function that calculates the part of speech frequencies for each review\n",
    "    \n",
    "    Parameters\n",
    "    ----------\n",
    "    df_text_column: Pandas data frame column\n",
    "    \"\"\"\n",
    "    \n",
    "    wiki = [] #To store the list of pos tags \n",
    "    ls_index = [] #To store the index\n",
    "    \n",
    "    # For each string\n",
    "    for index, string in df_text_column.iteritems():\n",
    "        text_blob = tb.TextBlob(str(string)) #Convert the string to a text blob object\n",
    "        wiki.append(text_blob.tags) #Append pos tags to list\n",
    "        ls_index.append(index) #Append index to list\n",
    "        \n",
    "    df_temp=pd.DataFrame() #Create empty dataframe\n",
    "    #For each item number in list containing pos tags\n",
    "    for i in range(0, len(wiki)):\n",
    "        test = pd.DataFrame(wiki[i], columns=[i,'pos']) #Create a data frame from each pos item in list\n",
    "        #Append the number of words for each pos tag\n",
    "        df_temp = df_temp.append(test.groupby('pos').count().T)\n",
    "\n",
    "    df_temp = df_temp.reset_index(drop=True).fillna(0)\n",
    "    return df_temp"
   ]
  },
  {
   "cell_type": "code",
   "execution_count": 6,
   "metadata": {
    "collapsed": true
   },
   "outputs": [],
   "source": [
    "def tdm(df_column, tuple_ngram_range, order_by_count = True, stop_words = 'english', min_df=1, max_df=1.0):\n",
    "    \"\"\"Function that creates an term document matrix from a Pandas column\"\"\"\n",
    "    #Creates a term frequency matrix from a text pandas dataframe column\n",
    "    from sklearn.feature_extraction.text import CountVectorizer\n",
    "    \n",
    "    df_column = df_column.fillna(\" \")\n",
    "    countvec = CountVectorizer(ngram_range = tuple_ngram_range, stop_words = stop_words, min_df = min_df, max_df = max_df)\n",
    "\n",
    "    temp_df = pd.DataFrame(countvec.fit_transform(df_column).toarray(), columns=countvec.get_feature_names(),\n",
    "                           index = df_column.index)\n",
    "    \n",
    "    if order_by_count == True:\n",
    "        ordered_columns_by_count = temp_df.sum().reset_index().sort_values(0, ascending=False)['index']\n",
    "        temp_df = temp_df[ordered_columns_by_count]\n",
    "    \n",
    "    return temp_df"
   ]
  },
  {
   "cell_type": "code",
   "execution_count": 7,
   "metadata": {
    "collapsed": false
   },
   "outputs": [
    {
     "name": "stdout",
     "output_type": "stream",
     "text": [
      "The baguettes and rolls are excellent, and although I haven't tried them yet I'm excited about the dozen-plus types of filled croissants on offer at ridiculously low prices. &#160;Cheese, with or without ham? &#160;Blueberry, with or without cream cheese? &#160;Chocolate, almond? &#160;This could be dangerous. &#160;I have a bad bakery habit, but at least at Q Bakery I won't go broke while I get fat. &#160;I've tried four different banh mi, and I'll agree with Matthew that the basic ones are somewhat Americanized. &#160;Mushroom was more interesting than chicken or BBQ pork, obviously. &#160;That made this a good place to get food for the in-laws that seemed exotic, but not too scary. &#160;(Note to self: don't publish this on Facebook, where the in-laws might see it.) &#160; Q Bakery's location on two divided streets makes it a slight pain to get to, but it's worth a stop if you want affordable variety. This used to be the location of my favorite Bahn Mi shop in Seattle, King Baguettes, so when I saw that, after one year as a Pho restaurant, that a new Bahn Mi joint had taken up residence. &#160;With dreams of King Baguettes' Chicken Bahn Mi dancing in my head I quickly rushed in.At first examination, Q Bakery is a lot more welcoming than the old King Baguette. &#160;There are a variety of baked goods in the cases, and they have both Bahn Mi and regular deli sandwiches available. &#160;I had both a pork and a teriyaki chicken bahn mi, and I found that they didn't quite hit the mark.  On the plus side, Q Bakery is not stingy with the meat, and the meat is both flavorful and juicy. &#160;The teriyaki chicken was especially interesting as I've never had a bahn mi like it before, and I quite enjoyed it. &#160;Also, Q Bakery is mercifully light on the mayonnaise. &#160;On the down side, both my sandwiches lacked much kick. &#160;They tasted like an Americanized bahn mi, with all the asian flavors toned way down. &#160;The baguette itself was also kind of disapointing, being more chewy than crusty.For a brand new place, however, I think Q Bakery has a lot of potential, and I look forward to trying them out again in the near future. YUM! I always, always look forward to visiting my family in Seattle, WA so I can get all types of baked goodies from Q's. They are known for their banh mi's. I usually order the banh mi cha lua.. The customer service, is getting better. English is obviously not their second language, but many establishments these days aren't anyways! Love this place. &#160;We mostly go there for the Vietnamese sandwiches. &#160;I usually go for the veggie ones - they're full of flavorful tofu and a great assortment of veggies. &#160;I don't feel like I've just had a sandwichful of bread after eating there - it actually feels like I've eaten my veggies. &#160;My husband gets the meat sandwiches. &#160;He says he likes Q's sandwiches because chicken is not shredded, the sandwich is \"bigger\" and the store is great because it's better lit, better arranged, and tidier than some.Having lived in France (and eaten my way though many-a-patisserie) I have to add that Q's pastry selection and taste are pretty awesome. I'm talking straight up delicious pains au chocolat and pains aux raisins. &#160;They also have all sorts of candies in jars, and sesame treats. &#160;They have one or 2 tables w/ 4 or 6 chairs for eating in. &#160;They're open til 7pm. &#160;Also, they take cards, which makes it handy if we don't have cash.One star off because it's been a little tough to communicate with the folks there since we don't speak Vietnamese. &#160;Wouldn't be a problem except we've ended up with the wrong food before. Overall, great little place. &#160;And I'll totally be bringing my parents there when they come to visit this weekend - thanks for the idea, Matthew!PS - Brought my mom there when she came for a visit and she loved it. &#160;Naturally, the 'rents had never had a Vietnamese sandwich before; great way to introduce them to the magic of banh mi.\n",
      "\n",
      "(13299, 1)\n",
      "the baguettes and rolls are excellent and although i havent tried them yet im excited about the dozenplus types of filled croissants on offer at ridiculously low prices cheese with or without ham blueberry with or without cream cheese chocolate almond this could be dangerous i have a bad bakery habit but at least at q bakery i wont go broke while i get fat ive tried four different banh mi and ill agree with matthew that the basic ones are somewhat americanized mushroom was more interesting than chicken or bbq pork obviously that made this a good place to get food for the inlaws that seemed exotic but not too scary note to self dont publish this on facebook where the inlaws might see it q bakerys location on two divided streets makes it a slight pain to get to but its worth a stop if you want affordable variety this used to be the location of my favorite bahn mi shop in seattle king baguettes so when i saw that after one year as a pho restaurant that a new bahn mi joint had taken up residence with dreams of king baguettes chicken bahn mi dancing in my head i quickly rushed inat first examination q bakery is a lot more welcoming than the old king baguette there are a variety of baked goods in the cases and they have both bahn mi and regular deli sandwiches available i had both a pork and a teriyaki chicken bahn mi and i found that they didnt quite hit the mark on the plus side q bakery is not stingy with the meat and the meat is both flavorful and juicy the teriyaki chicken was especially interesting as ive never had a bahn mi like it before and i quite enjoyed it also q bakery is mercifully light on the mayonnaise on the down side both my sandwiches lacked much kick they tasted like an americanized bahn mi with all the asian flavors toned way down the baguette itself was also kind of disapointing being more chewy than crustyfor a brand new place however i think q bakery has a lot of potential and i look forward to trying them out again in the near future yum i always always look forward to visiting my family in seattle wa so i can get all types of baked goodies from qs they are known for their banh mis i usually order the banh mi cha lua the customer service is getting better english is obviously not their second language but many establishments these days arent anyways love this place we mostly go there for the vietnamese sandwiches i usually go for the veggie ones theyre full of flavorful tofu and a great assortment of veggies i dont feel like ive just had a sandwichful of bread after eating there it actually feels like ive eaten my veggies my husband gets the meat sandwiches he says he likes qs sandwiches because chicken is not shredded the sandwich is bigger and the store is great because its better lit better arranged and tidier than somehaving lived in france and eaten my way though manyapatisserie i have to add that qs pastry selection and taste are pretty awesome im talking straight up delicious pains au chocolat and pains aux raisins they also have all sorts of candies in jars and sesame treats they have one or 2 tables w 4 or 6 chairs for eating in theyre open til 7pm also they take cards which makes it handy if we dont have cashone star off because its been a little tough to communicate with the folks there since we dont speak vietnamese wouldnt be a problem except weve ended up with the wrong food before overall great little place and ill totally be bringing my parents there when they come to visit this weekend thanks for the idea matthewps brought my mom there when she came for a visit and she loved it naturally the rents had never had a vietnamese sandwich before great way to introduce them to the magic of banh mi\n"
     ]
    },
    {
     "data": {
      "text/html": [
       "<div>\n",
       "<table border=\"1\" class=\"dataframe\">\n",
       "  <thead>\n",
       "    <tr style=\"text-align: right;\">\n",
       "      <th></th>\n",
       "      <th>reviews</th>\n",
       "    </tr>\n",
       "  </thead>\n",
       "  <tbody>\n",
       "    <tr>\n",
       "      <th>0</th>\n",
       "      <td>the baguettes and rolls are excellent and alth...</td>\n",
       "    </tr>\n",
       "    <tr>\n",
       "      <th>1</th>\n",
       "      <td>i live up the street from betty when my sister...</td>\n",
       "    </tr>\n",
       "    <tr>\n",
       "      <th>2</th>\n",
       "      <td>im worried about how i will review this place ...</td>\n",
       "    </tr>\n",
       "    <tr>\n",
       "      <th>3</th>\n",
       "      <td>why cant you access them on google street view...</td>\n",
       "    </tr>\n",
       "    <tr>\n",
       "      <th>4</th>\n",
       "      <td>things to like about this place homemade guaca...</td>\n",
       "    </tr>\n",
       "  </tbody>\n",
       "</table>\n",
       "</div>"
      ],
      "text/plain": [
       "                                             reviews\n",
       "0  the baguettes and rolls are excellent and alth...\n",
       "1  i live up the street from betty when my sister...\n",
       "2  im worried about how i will review this place ...\n",
       "3  why cant you access them on google street view...\n",
       "4  things to like about this place homemade guaca..."
      ]
     },
     "execution_count": 7,
     "metadata": {},
     "output_type": "execute_result"
    }
   ],
   "source": [
    "#hygiene.dat: Each line contains the concatenated text reviews of one restaurant.\n",
    "\n",
    "# Open file\n",
    "reviews = open('Hygiene/hygiene.dat')\n",
    "data = reviews.readlines()\n",
    "\n",
    "print data[0]\n",
    "\n",
    "df_reviews = pd.DataFrame(data,columns=['reviews'])\n",
    "\n",
    "#Clean the reviews\n",
    "df_reviews[\"reviews\"] = df_reviews[\"reviews\"].str.lower().str.strip().str.replace(\"&#160;\",\"\").str.replace('[^\\w\\s]',\n",
    "                        '').str.replace(' +',\n",
    "                                        ' ').str.replace('\"','').str.replace('\\n','')\n",
    "\n",
    "# Create a feature that determines length of the string\n",
    "df_char_length = df_reviews.reviews.str.len()\n",
    "df_char_length.name =\"review_char_length\"\n",
    "\n",
    "# Create a feature that determines number of words in a review\n",
    "df_num_words = df_reviews.reviews.apply(lambda x: len(x.split()))\n",
    "df_num_words.name = 'review_num_words'\n",
    "\n",
    "print df_reviews.shape\n",
    "print df_reviews.reviews[0]\n",
    "df_reviews.head()"
   ]
  },
  {
   "cell_type": "code",
   "execution_count": 8,
   "metadata": {
    "collapsed": false
   },
   "outputs": [
    {
     "name": "stdout",
     "output_type": "stream",
     "text": [
      "Wall time: 5min 26s\n"
     ]
    },
    {
     "data": {
      "text/html": [
       "<div>\n",
       "<table border=\"1\" class=\"dataframe\">\n",
       "  <thead>\n",
       "    <tr style=\"text-align: right;\">\n",
       "      <th></th>\n",
       "      <th>CC</th>\n",
       "      <th>CD</th>\n",
       "      <th>DT</th>\n",
       "      <th>EX</th>\n",
       "      <th>FW</th>\n",
       "      <th>IN</th>\n",
       "      <th>JJ</th>\n",
       "      <th>JJR</th>\n",
       "      <th>JJS</th>\n",
       "      <th>MD</th>\n",
       "      <th>...</th>\n",
       "      <th>VBD</th>\n",
       "      <th>VBG</th>\n",
       "      <th>VBG|NN</th>\n",
       "      <th>VBN</th>\n",
       "      <th>VBP</th>\n",
       "      <th>VBZ</th>\n",
       "      <th>WDT</th>\n",
       "      <th>WP</th>\n",
       "      <th>WP$</th>\n",
       "      <th>WRB</th>\n",
       "    </tr>\n",
       "  </thead>\n",
       "  <tbody>\n",
       "    <tr>\n",
       "      <th>0</th>\n",
       "      <td>30</td>\n",
       "      <td>5</td>\n",
       "      <td>64</td>\n",
       "      <td>6</td>\n",
       "      <td>4</td>\n",
       "      <td>90</td>\n",
       "      <td>53</td>\n",
       "      <td>7</td>\n",
       "      <td>1</td>\n",
       "      <td>3</td>\n",
       "      <td>...</td>\n",
       "      <td>26</td>\n",
       "      <td>11</td>\n",
       "      <td>0</td>\n",
       "      <td>15</td>\n",
       "      <td>19</td>\n",
       "      <td>17</td>\n",
       "      <td>1</td>\n",
       "      <td>0</td>\n",
       "      <td>0</td>\n",
       "      <td>4</td>\n",
       "    </tr>\n",
       "    <tr>\n",
       "      <th>1</th>\n",
       "      <td>96</td>\n",
       "      <td>20</td>\n",
       "      <td>228</td>\n",
       "      <td>2</td>\n",
       "      <td>0</td>\n",
       "      <td>244</td>\n",
       "      <td>202</td>\n",
       "      <td>5</td>\n",
       "      <td>3</td>\n",
       "      <td>21</td>\n",
       "      <td>...</td>\n",
       "      <td>134</td>\n",
       "      <td>25</td>\n",
       "      <td>0</td>\n",
       "      <td>54</td>\n",
       "      <td>39</td>\n",
       "      <td>54</td>\n",
       "      <td>9</td>\n",
       "      <td>7</td>\n",
       "      <td>0</td>\n",
       "      <td>14</td>\n",
       "    </tr>\n",
       "    <tr>\n",
       "      <th>2</th>\n",
       "      <td>103</td>\n",
       "      <td>18</td>\n",
       "      <td>190</td>\n",
       "      <td>3</td>\n",
       "      <td>3</td>\n",
       "      <td>208</td>\n",
       "      <td>168</td>\n",
       "      <td>18</td>\n",
       "      <td>5</td>\n",
       "      <td>31</td>\n",
       "      <td>...</td>\n",
       "      <td>118</td>\n",
       "      <td>21</td>\n",
       "      <td>0</td>\n",
       "      <td>43</td>\n",
       "      <td>51</td>\n",
       "      <td>40</td>\n",
       "      <td>6</td>\n",
       "      <td>6</td>\n",
       "      <td>0</td>\n",
       "      <td>14</td>\n",
       "    </tr>\n",
       "    <tr>\n",
       "      <th>3</th>\n",
       "      <td>243</td>\n",
       "      <td>50</td>\n",
       "      <td>537</td>\n",
       "      <td>14</td>\n",
       "      <td>6</td>\n",
       "      <td>573</td>\n",
       "      <td>474</td>\n",
       "      <td>18</td>\n",
       "      <td>26</td>\n",
       "      <td>55</td>\n",
       "      <td>...</td>\n",
       "      <td>349</td>\n",
       "      <td>60</td>\n",
       "      <td>0</td>\n",
       "      <td>102</td>\n",
       "      <td>99</td>\n",
       "      <td>106</td>\n",
       "      <td>19</td>\n",
       "      <td>12</td>\n",
       "      <td>0</td>\n",
       "      <td>20</td>\n",
       "    </tr>\n",
       "    <tr>\n",
       "      <th>4</th>\n",
       "      <td>34</td>\n",
       "      <td>9</td>\n",
       "      <td>83</td>\n",
       "      <td>2</td>\n",
       "      <td>2</td>\n",
       "      <td>108</td>\n",
       "      <td>78</td>\n",
       "      <td>6</td>\n",
       "      <td>3</td>\n",
       "      <td>9</td>\n",
       "      <td>...</td>\n",
       "      <td>40</td>\n",
       "      <td>7</td>\n",
       "      <td>0</td>\n",
       "      <td>23</td>\n",
       "      <td>27</td>\n",
       "      <td>20</td>\n",
       "      <td>1</td>\n",
       "      <td>3</td>\n",
       "      <td>0</td>\n",
       "      <td>2</td>\n",
       "    </tr>\n",
       "  </tbody>\n",
       "</table>\n",
       "<p>5 rows × 35 columns</p>\n",
       "</div>"
      ],
      "text/plain": [
       "    CC  CD   DT  EX  FW   IN   JJ  JJR  JJS  MD ...   VBD  VBG  VBG|NN  VBN  \\\n",
       "0   30   5   64   6   4   90   53    7    1   3 ...    26   11       0   15   \n",
       "1   96  20  228   2   0  244  202    5    3  21 ...   134   25       0   54   \n",
       "2  103  18  190   3   3  208  168   18    5  31 ...   118   21       0   43   \n",
       "3  243  50  537  14   6  573  474   18   26  55 ...   349   60       0  102   \n",
       "4   34   9   83   2   2  108   78    6    3   9 ...    40    7       0   23   \n",
       "\n",
       "   VBP  VBZ  WDT  WP  WP$  WRB  \n",
       "0   19   17    1   0    0    4  \n",
       "1   39   54    9   7    0   14  \n",
       "2   51   40    6   6    0   14  \n",
       "3   99  106   19  12    0   20  \n",
       "4   27   20    1   3    0    2  \n",
       "\n",
       "[5 rows x 35 columns]"
      ]
     },
     "execution_count": 8,
     "metadata": {},
     "output_type": "execute_result"
    }
   ],
   "source": [
    "# Get pos dummy variables\n",
    "%time df_pos = pos_dummies(df_reviews.reviews)\n",
    "df_pos.head()"
   ]
  },
  {
   "cell_type": "code",
   "execution_count": 9,
   "metadata": {
    "collapsed": false
   },
   "outputs": [
    {
     "name": "stdout",
     "output_type": "stream",
     "text": [
      "Wall time: 2min 7s\n"
     ]
    },
    {
     "data": {
      "text/html": [
       "<div>\n",
       "<table border=\"1\" class=\"dataframe\">\n",
       "  <thead>\n",
       "    <tr style=\"text-align: right;\">\n",
       "      <th></th>\n",
       "      <th>polarity</th>\n",
       "      <th>subjectivity</th>\n",
       "    </tr>\n",
       "  </thead>\n",
       "  <tbody>\n",
       "    <tr>\n",
       "      <th>0</th>\n",
       "      <td>0.160625</td>\n",
       "      <td>0.578656</td>\n",
       "    </tr>\n",
       "    <tr>\n",
       "      <th>1</th>\n",
       "      <td>0.182132</td>\n",
       "      <td>0.623393</td>\n",
       "    </tr>\n",
       "    <tr>\n",
       "      <th>2</th>\n",
       "      <td>0.149712</td>\n",
       "      <td>0.563289</td>\n",
       "    </tr>\n",
       "    <tr>\n",
       "      <th>3</th>\n",
       "      <td>0.261486</td>\n",
       "      <td>0.568099</td>\n",
       "    </tr>\n",
       "    <tr>\n",
       "      <th>4</th>\n",
       "      <td>0.195297</td>\n",
       "      <td>0.550908</td>\n",
       "    </tr>\n",
       "  </tbody>\n",
       "</table>\n",
       "</div>"
      ],
      "text/plain": [
       "   polarity  subjectivity\n",
       "0  0.160625      0.578656\n",
       "1  0.182132      0.623393\n",
       "2  0.149712      0.563289\n",
       "3  0.261486      0.568099\n",
       "4  0.195297      0.550908"
      ]
     },
     "execution_count": 9,
     "metadata": {},
     "output_type": "execute_result"
    }
   ],
   "source": [
    "# Get sentiment for each verbatim\n",
    "%time df_sentiment = sentiment(df_reviews.reviews)\n",
    "df_sentiment.head()"
   ]
  },
  {
   "cell_type": "code",
   "execution_count": 10,
   "metadata": {
    "collapsed": false
   },
   "outputs": [
    {
     "name": "stdout",
     "output_type": "stream",
     "text": [
      "Wall time: 3min 18s\n",
      "(13299, 61235)\n"
     ]
    },
    {
     "data": {
      "text/html": [
       "<div>\n",
       "<table border=\"1\" class=\"dataframe\">\n",
       "  <thead>\n",
       "    <tr style=\"text-align: right;\">\n",
       "      <th></th>\n",
       "      <th>good</th>\n",
       "      <th>food</th>\n",
       "      <th>place</th>\n",
       "      <th>like</th>\n",
       "      <th>great</th>\n",
       "      <th>just</th>\n",
       "      <th>really</th>\n",
       "      <th>service</th>\n",
       "      <th>time</th>\n",
       "      <th>dont</th>\n",
       "      <th>...</th>\n",
       "      <th>like normally</th>\n",
       "      <th>pretty good way</th>\n",
       "      <th>pretty good usually</th>\n",
       "      <th>bar tiny</th>\n",
       "      <th>sauce big</th>\n",
       "      <th>like needs</th>\n",
       "      <th>offered suggestions</th>\n",
       "      <th>friend having</th>\n",
       "      <th>pretty good staff</th>\n",
       "      <th>atmosphere quaint</th>\n",
       "    </tr>\n",
       "  </thead>\n",
       "  <tbody>\n",
       "    <tr>\n",
       "      <th>0</th>\n",
       "      <td>1</td>\n",
       "      <td>2</td>\n",
       "      <td>4</td>\n",
       "      <td>4</td>\n",
       "      <td>4</td>\n",
       "      <td>1</td>\n",
       "      <td>0</td>\n",
       "      <td>1</td>\n",
       "      <td>0</td>\n",
       "      <td>4</td>\n",
       "      <td>...</td>\n",
       "      <td>0</td>\n",
       "      <td>0</td>\n",
       "      <td>0</td>\n",
       "      <td>0</td>\n",
       "      <td>0</td>\n",
       "      <td>0</td>\n",
       "      <td>0</td>\n",
       "      <td>0</td>\n",
       "      <td>0</td>\n",
       "      <td>0</td>\n",
       "    </tr>\n",
       "    <tr>\n",
       "      <th>1</th>\n",
       "      <td>11</td>\n",
       "      <td>14</td>\n",
       "      <td>13</td>\n",
       "      <td>9</td>\n",
       "      <td>12</td>\n",
       "      <td>6</td>\n",
       "      <td>8</td>\n",
       "      <td>8</td>\n",
       "      <td>7</td>\n",
       "      <td>5</td>\n",
       "      <td>...</td>\n",
       "      <td>0</td>\n",
       "      <td>0</td>\n",
       "      <td>0</td>\n",
       "      <td>0</td>\n",
       "      <td>0</td>\n",
       "      <td>0</td>\n",
       "      <td>0</td>\n",
       "      <td>0</td>\n",
       "      <td>0</td>\n",
       "      <td>0</td>\n",
       "    </tr>\n",
       "    <tr>\n",
       "      <th>2</th>\n",
       "      <td>11</td>\n",
       "      <td>22</td>\n",
       "      <td>9</td>\n",
       "      <td>6</td>\n",
       "      <td>9</td>\n",
       "      <td>9</td>\n",
       "      <td>10</td>\n",
       "      <td>9</td>\n",
       "      <td>5</td>\n",
       "      <td>7</td>\n",
       "      <td>...</td>\n",
       "      <td>0</td>\n",
       "      <td>0</td>\n",
       "      <td>0</td>\n",
       "      <td>0</td>\n",
       "      <td>0</td>\n",
       "      <td>0</td>\n",
       "      <td>0</td>\n",
       "      <td>0</td>\n",
       "      <td>0</td>\n",
       "      <td>0</td>\n",
       "    </tr>\n",
       "    <tr>\n",
       "      <th>3</th>\n",
       "      <td>37</td>\n",
       "      <td>40</td>\n",
       "      <td>26</td>\n",
       "      <td>19</td>\n",
       "      <td>19</td>\n",
       "      <td>16</td>\n",
       "      <td>18</td>\n",
       "      <td>20</td>\n",
       "      <td>19</td>\n",
       "      <td>9</td>\n",
       "      <td>...</td>\n",
       "      <td>0</td>\n",
       "      <td>0</td>\n",
       "      <td>0</td>\n",
       "      <td>0</td>\n",
       "      <td>0</td>\n",
       "      <td>0</td>\n",
       "      <td>0</td>\n",
       "      <td>0</td>\n",
       "      <td>0</td>\n",
       "      <td>0</td>\n",
       "    </tr>\n",
       "    <tr>\n",
       "      <th>4</th>\n",
       "      <td>8</td>\n",
       "      <td>11</td>\n",
       "      <td>8</td>\n",
       "      <td>2</td>\n",
       "      <td>6</td>\n",
       "      <td>4</td>\n",
       "      <td>2</td>\n",
       "      <td>8</td>\n",
       "      <td>1</td>\n",
       "      <td>2</td>\n",
       "      <td>...</td>\n",
       "      <td>0</td>\n",
       "      <td>0</td>\n",
       "      <td>0</td>\n",
       "      <td>0</td>\n",
       "      <td>0</td>\n",
       "      <td>0</td>\n",
       "      <td>0</td>\n",
       "      <td>0</td>\n",
       "      <td>0</td>\n",
       "      <td>0</td>\n",
       "    </tr>\n",
       "  </tbody>\n",
       "</table>\n",
       "<p>5 rows × 61235 columns</p>\n",
       "</div>"
      ],
      "text/plain": [
       "   good  food  place  like  great  just  really  service  time  dont  \\\n",
       "0     1     2      4     4      4     1       0        1     0     4   \n",
       "1    11    14     13     9     12     6       8        8     7     5   \n",
       "2    11    22      9     6      9     9      10        9     5     7   \n",
       "3    37    40     26    19     19    16      18       20    19     9   \n",
       "4     8    11      8     2      6     4       2        8     1     2   \n",
       "\n",
       "         ...          like normally  pretty good way  pretty good usually  \\\n",
       "0        ...                      0                0                    0   \n",
       "1        ...                      0                0                    0   \n",
       "2        ...                      0                0                    0   \n",
       "3        ...                      0                0                    0   \n",
       "4        ...                      0                0                    0   \n",
       "\n",
       "   bar tiny  sauce big  like needs  offered suggestions  friend having  \\\n",
       "0         0          0           0                    0              0   \n",
       "1         0          0           0                    0              0   \n",
       "2         0          0           0                    0              0   \n",
       "3         0          0           0                    0              0   \n",
       "4         0          0           0                    0              0   \n",
       "\n",
       "   pretty good staff  atmosphere quaint  \n",
       "0                  0                  0  \n",
       "1                  0                  0  \n",
       "2                  0                  0  \n",
       "3                  0                  0  \n",
       "4                  0                  0  \n",
       "\n",
       "[5 rows x 61235 columns]"
      ]
     },
     "execution_count": 10,
     "metadata": {},
     "output_type": "execute_result"
    }
   ],
   "source": [
    "# Create term document matrix\n",
    "%time df_tdm = tdm(df_reviews.reviews, (1,3), stop_words='english', min_df=20)\n",
    "print df_tdm.shape\n",
    "df_tdm.head()"
   ]
  },
  {
   "cell_type": "code",
   "execution_count": 11,
   "metadata": {
    "collapsed": false
   },
   "outputs": [],
   "source": [
    "# from sklearn.ensemble import RandomForestClassifier\n",
    "# temp_est = RandomForestClassifier(n_estimators=200).fit(df_tdm[df_labels.failed_ind != \"[None]\"].values, \n",
    "#                                                         df_train_y.failed_ind.values)\n",
    "\n",
    "# from sklearn import preprocessing\n",
    "# lb = preprocessing.LabelBinarizer()\n",
    "# temp = np.array([number[0] for number in lb.fit_transform(df_train_y.failed_ind.values)])\n",
    "\n",
    "# from sklearn import cross_validation\n",
    "# temp_scores = cross_validation.cross_val_score(temp_est, df_tdm[df_labels.failed_ind != \"[None]\"].values, \n",
    "#                                                temp,\n",
    "#                                                cv=3, scoring=\"f1\", verbose=0)\n",
    "\n",
    "# print \"Term Frequency Matrix F1 mean score,\", np.mean(temp_scores), np.std(temp_scores)\n",
    "# #Term Frequency Matrix F1 mean score, 0.610772087796 0.0273961116464"
   ]
  },
  {
   "cell_type": "markdown",
   "metadata": {},
   "source": [
    "### Import Additional Info and Clean"
   ]
  },
  {
   "cell_type": "code",
   "execution_count": 12,
   "metadata": {
    "collapsed": false,
    "scrolled": true
   },
   "outputs": [
    {
     "name": "stdout",
     "output_type": "stream",
     "text": [
      "(13299, 4)\n",
      "(13299, 168)\n"
     ]
    },
    {
     "data": {
      "text/html": [
       "<div>\n",
       "<table border=\"1\" class=\"dataframe\">\n",
       "  <thead>\n",
       "    <tr style=\"text-align: right;\">\n",
       "      <th></th>\n",
       "      <th>num_reviews</th>\n",
       "      <th>average_rating</th>\n",
       "      <th>African</th>\n",
       "      <th>American (New)</th>\n",
       "      <th>American (Traditional)</th>\n",
       "      <th>Barbeque</th>\n",
       "      <th>Basque</th>\n",
       "      <th>Belgian</th>\n",
       "      <th>Brazilian</th>\n",
       "      <th>Breakfast &amp; Brunch</th>\n",
       "      <th>...</th>\n",
       "      <th>98134</th>\n",
       "      <th>98136</th>\n",
       "      <th>98144</th>\n",
       "      <th>98146</th>\n",
       "      <th>98166</th>\n",
       "      <th>98168</th>\n",
       "      <th>98177</th>\n",
       "      <th>98178</th>\n",
       "      <th>98188</th>\n",
       "      <th>98199</th>\n",
       "    </tr>\n",
       "  </thead>\n",
       "  <tbody>\n",
       "    <tr>\n",
       "      <th>0</th>\n",
       "      <td>4</td>\n",
       "      <td>4.000000</td>\n",
       "      <td>0</td>\n",
       "      <td>0</td>\n",
       "      <td>0</td>\n",
       "      <td>0</td>\n",
       "      <td>0</td>\n",
       "      <td>0</td>\n",
       "      <td>0</td>\n",
       "      <td>0</td>\n",
       "      <td>...</td>\n",
       "      <td>0</td>\n",
       "      <td>0</td>\n",
       "      <td>0</td>\n",
       "      <td>0</td>\n",
       "      <td>0</td>\n",
       "      <td>0</td>\n",
       "      <td>0</td>\n",
       "      <td>0</td>\n",
       "      <td>0</td>\n",
       "      <td>0</td>\n",
       "    </tr>\n",
       "    <tr>\n",
       "      <th>1</th>\n",
       "      <td>21</td>\n",
       "      <td>4.047619</td>\n",
       "      <td>0</td>\n",
       "      <td>0</td>\n",
       "      <td>0</td>\n",
       "      <td>0</td>\n",
       "      <td>0</td>\n",
       "      <td>0</td>\n",
       "      <td>0</td>\n",
       "      <td>0</td>\n",
       "      <td>...</td>\n",
       "      <td>0</td>\n",
       "      <td>0</td>\n",
       "      <td>0</td>\n",
       "      <td>0</td>\n",
       "      <td>0</td>\n",
       "      <td>0</td>\n",
       "      <td>0</td>\n",
       "      <td>0</td>\n",
       "      <td>0</td>\n",
       "      <td>0</td>\n",
       "    </tr>\n",
       "    <tr>\n",
       "      <th>2</th>\n",
       "      <td>14</td>\n",
       "      <td>3.111111</td>\n",
       "      <td>0</td>\n",
       "      <td>0</td>\n",
       "      <td>0</td>\n",
       "      <td>0</td>\n",
       "      <td>0</td>\n",
       "      <td>0</td>\n",
       "      <td>0</td>\n",
       "      <td>0</td>\n",
       "      <td>...</td>\n",
       "      <td>0</td>\n",
       "      <td>0</td>\n",
       "      <td>0</td>\n",
       "      <td>0</td>\n",
       "      <td>0</td>\n",
       "      <td>0</td>\n",
       "      <td>0</td>\n",
       "      <td>0</td>\n",
       "      <td>0</td>\n",
       "      <td>0</td>\n",
       "    </tr>\n",
       "    <tr>\n",
       "      <th>3</th>\n",
       "      <td>42</td>\n",
       "      <td>4.088889</td>\n",
       "      <td>0</td>\n",
       "      <td>0</td>\n",
       "      <td>0</td>\n",
       "      <td>0</td>\n",
       "      <td>0</td>\n",
       "      <td>0</td>\n",
       "      <td>0</td>\n",
       "      <td>0</td>\n",
       "      <td>...</td>\n",
       "      <td>0</td>\n",
       "      <td>0</td>\n",
       "      <td>0</td>\n",
       "      <td>0</td>\n",
       "      <td>0</td>\n",
       "      <td>0</td>\n",
       "      <td>0</td>\n",
       "      <td>0</td>\n",
       "      <td>0</td>\n",
       "      <td>0</td>\n",
       "    </tr>\n",
       "    <tr>\n",
       "      <th>4</th>\n",
       "      <td>12</td>\n",
       "      <td>3.071429</td>\n",
       "      <td>0</td>\n",
       "      <td>0</td>\n",
       "      <td>0</td>\n",
       "      <td>0</td>\n",
       "      <td>0</td>\n",
       "      <td>0</td>\n",
       "      <td>0</td>\n",
       "      <td>0</td>\n",
       "      <td>...</td>\n",
       "      <td>0</td>\n",
       "      <td>0</td>\n",
       "      <td>0</td>\n",
       "      <td>0</td>\n",
       "      <td>0</td>\n",
       "      <td>0</td>\n",
       "      <td>0</td>\n",
       "      <td>0</td>\n",
       "      <td>0</td>\n",
       "      <td>0</td>\n",
       "    </tr>\n",
       "  </tbody>\n",
       "</table>\n",
       "<p>5 rows × 200 columns</p>\n",
       "</div>"
      ],
      "text/plain": [
       "   num_reviews  average_rating   African   American (New)  \\\n",
       "0            4        4.000000         0                0   \n",
       "1           21        4.047619         0                0   \n",
       "2           14        3.111111         0                0   \n",
       "3           42        4.088889         0                0   \n",
       "4           12        3.071429         0                0   \n",
       "\n",
       "    American (Traditional)   Barbeque   Basque   Belgian   Brazilian  \\\n",
       "0                        0          0        0         0           0   \n",
       "1                        0          0        0         0           0   \n",
       "2                        0          0        0         0           0   \n",
       "3                        0          0        0         0           0   \n",
       "4                        0          0        0         0           0   \n",
       "\n",
       "    Breakfast & Brunch  ...    98134  98136  98144  98146  98166  98168  \\\n",
       "0                    0  ...        0      0      0      0      0      0   \n",
       "1                    0  ...        0      0      0      0      0      0   \n",
       "2                    0  ...        0      0      0      0      0      0   \n",
       "3                    0  ...        0      0      0      0      0      0   \n",
       "4                    0  ...        0      0      0      0      0      0   \n",
       "\n",
       "   98177  98178  98188  98199  \n",
       "0      0      0      0      0  \n",
       "1      0      0      0      0  \n",
       "2      0      0      0      0  \n",
       "3      0      0      0      0  \n",
       "4      0      0      0      0  \n",
       "\n",
       "[5 rows x 200 columns]"
      ]
     },
     "execution_count": 12,
     "metadata": {},
     "output_type": "execute_result"
    }
   ],
   "source": [
    "#hygiene.dat.additional: It is a CSV (Comma-Separated Values) file where the first value is a list containing the cuisines \n",
    "    #offered, the second value is the zip code, which gives an idea about the location, the third is the number of reviews, \n",
    "    #and the fourth is the average rating, which can vary between 0 and 5 (5 being the best).\n",
    "\n",
    "#Import file\n",
    "df_add = pd.read_csv('Hygiene/hygiene.dat.additional', \n",
    "                     names=['category', 'zip_code', 'num_reviews', 'average_rating'])\n",
    "print df_add.shape\n",
    "\n",
    "# Import in manually created dummy file to join\n",
    "df_category = pd.read_csv(path + 'category_dummies.csv', index_col='id')\n",
    "print df_category.shape\n",
    "\n",
    "# Drop the categories and join the dummies category variables\n",
    "df_add = df_add.drop('category', axis=1).join(df_category)\n",
    "\n",
    "#Do the same for zip codes\n",
    "df_add = df_add.drop('zip_code', axis=1).join(pd.get_dummies(df_add.zip_code))\n",
    "\n",
    "df_add.head()"
   ]
  },
  {
   "cell_type": "markdown",
   "metadata": {},
   "source": [
    "### Combine All Data Souces"
   ]
  },
  {
   "cell_type": "code",
   "execution_count": 13,
   "metadata": {
    "collapsed": false
   },
   "outputs": [
    {
     "name": "stdout",
     "output_type": "stream",
     "text": [
      "(13299, 61474)\n"
     ]
    },
    {
     "data": {
      "text/html": [
       "<div>\n",
       "<table border=\"1\" class=\"dataframe\">\n",
       "  <thead>\n",
       "    <tr style=\"text-align: right;\">\n",
       "      <th></th>\n",
       "      <th>polarity</th>\n",
       "      <th>subjectivity</th>\n",
       "      <th>review_num_words</th>\n",
       "      <th>review_char_length</th>\n",
       "      <th>num_reviews</th>\n",
       "      <th>average_rating</th>\n",
       "      <th>African</th>\n",
       "      <th>American (New)</th>\n",
       "      <th>American (Traditional)</th>\n",
       "      <th>Barbeque</th>\n",
       "      <th>...</th>\n",
       "      <th>VBD</th>\n",
       "      <th>VBG</th>\n",
       "      <th>VBG|NN</th>\n",
       "      <th>VBN</th>\n",
       "      <th>VBP</th>\n",
       "      <th>VBZ</th>\n",
       "      <th>WDT</th>\n",
       "      <th>WP</th>\n",
       "      <th>WP$</th>\n",
       "      <th>WRB</th>\n",
       "    </tr>\n",
       "  </thead>\n",
       "  <tbody>\n",
       "    <tr>\n",
       "      <th>0</th>\n",
       "      <td>0.160625</td>\n",
       "      <td>0.578656</td>\n",
       "      <td>690</td>\n",
       "      <td>3694</td>\n",
       "      <td>4</td>\n",
       "      <td>4.000000</td>\n",
       "      <td>0</td>\n",
       "      <td>0</td>\n",
       "      <td>0</td>\n",
       "      <td>0</td>\n",
       "      <td>...</td>\n",
       "      <td>26</td>\n",
       "      <td>11</td>\n",
       "      <td>0</td>\n",
       "      <td>15</td>\n",
       "      <td>19</td>\n",
       "      <td>17</td>\n",
       "      <td>1</td>\n",
       "      <td>0</td>\n",
       "      <td>0</td>\n",
       "      <td>4</td>\n",
       "    </tr>\n",
       "    <tr>\n",
       "      <th>1</th>\n",
       "      <td>0.182132</td>\n",
       "      <td>0.623393</td>\n",
       "      <td>2177</td>\n",
       "      <td>11662</td>\n",
       "      <td>21</td>\n",
       "      <td>4.047619</td>\n",
       "      <td>0</td>\n",
       "      <td>0</td>\n",
       "      <td>0</td>\n",
       "      <td>0</td>\n",
       "      <td>...</td>\n",
       "      <td>134</td>\n",
       "      <td>25</td>\n",
       "      <td>0</td>\n",
       "      <td>54</td>\n",
       "      <td>39</td>\n",
       "      <td>54</td>\n",
       "      <td>9</td>\n",
       "      <td>7</td>\n",
       "      <td>0</td>\n",
       "      <td>14</td>\n",
       "    </tr>\n",
       "    <tr>\n",
       "      <th>2</th>\n",
       "      <td>0.149712</td>\n",
       "      <td>0.563289</td>\n",
       "      <td>1935</td>\n",
       "      <td>10122</td>\n",
       "      <td>14</td>\n",
       "      <td>3.111111</td>\n",
       "      <td>0</td>\n",
       "      <td>0</td>\n",
       "      <td>0</td>\n",
       "      <td>0</td>\n",
       "      <td>...</td>\n",
       "      <td>118</td>\n",
       "      <td>21</td>\n",
       "      <td>0</td>\n",
       "      <td>43</td>\n",
       "      <td>51</td>\n",
       "      <td>40</td>\n",
       "      <td>6</td>\n",
       "      <td>6</td>\n",
       "      <td>0</td>\n",
       "      <td>14</td>\n",
       "    </tr>\n",
       "    <tr>\n",
       "      <th>3</th>\n",
       "      <td>0.261486</td>\n",
       "      <td>0.568099</td>\n",
       "      <td>5264</td>\n",
       "      <td>28499</td>\n",
       "      <td>42</td>\n",
       "      <td>4.088889</td>\n",
       "      <td>0</td>\n",
       "      <td>0</td>\n",
       "      <td>0</td>\n",
       "      <td>0</td>\n",
       "      <td>...</td>\n",
       "      <td>349</td>\n",
       "      <td>60</td>\n",
       "      <td>0</td>\n",
       "      <td>102</td>\n",
       "      <td>99</td>\n",
       "      <td>106</td>\n",
       "      <td>19</td>\n",
       "      <td>12</td>\n",
       "      <td>0</td>\n",
       "      <td>20</td>\n",
       "    </tr>\n",
       "    <tr>\n",
       "      <th>4</th>\n",
       "      <td>0.195297</td>\n",
       "      <td>0.550908</td>\n",
       "      <td>888</td>\n",
       "      <td>4636</td>\n",
       "      <td>12</td>\n",
       "      <td>3.071429</td>\n",
       "      <td>0</td>\n",
       "      <td>0</td>\n",
       "      <td>0</td>\n",
       "      <td>0</td>\n",
       "      <td>...</td>\n",
       "      <td>40</td>\n",
       "      <td>7</td>\n",
       "      <td>0</td>\n",
       "      <td>23</td>\n",
       "      <td>27</td>\n",
       "      <td>20</td>\n",
       "      <td>1</td>\n",
       "      <td>3</td>\n",
       "      <td>0</td>\n",
       "      <td>2</td>\n",
       "    </tr>\n",
       "  </tbody>\n",
       "</table>\n",
       "<p>5 rows × 61474 columns</p>\n",
       "</div>"
      ],
      "text/plain": [
       "   polarity  subjectivity  review_num_words  review_char_length  num_reviews  \\\n",
       "0  0.160625      0.578656               690                3694            4   \n",
       "1  0.182132      0.623393              2177               11662           21   \n",
       "2  0.149712      0.563289              1935               10122           14   \n",
       "3  0.261486      0.568099              5264               28499           42   \n",
       "4  0.195297      0.550908               888                4636           12   \n",
       "\n",
       "   average_rating   African   American (New)   American (Traditional)  \\\n",
       "0        4.000000         0                0                        0   \n",
       "1        4.047619         0                0                        0   \n",
       "2        3.111111         0                0                        0   \n",
       "3        4.088889         0                0                        0   \n",
       "4        3.071429         0                0                        0   \n",
       "\n",
       "    Barbeque ...   VBD  VBG  VBG|NN  VBN  VBP  VBZ  WDT  WP  WP$  WRB  \n",
       "0          0 ...    26   11       0   15   19   17    1   0    0    4  \n",
       "1          0 ...   134   25       0   54   39   54    9   7    0   14  \n",
       "2          0 ...   118   21       0   43   51   40    6   6    0   14  \n",
       "3          0 ...   349   60       0  102   99  106   19  12    0   20  \n",
       "4          0 ...    40    7       0   23   27   20    1   3    0    2  \n",
       "\n",
       "[5 rows x 61474 columns]"
      ]
     },
     "execution_count": 13,
     "metadata": {},
     "output_type": "execute_result"
    }
   ],
   "source": [
    "#Join all of the dataframes containing features\n",
    "df = df_sentiment.join(df_num_words).join(df_char_length).join(df_add).join(df_tdm).join(df_pos)\n",
    "\n",
    "print df.shape\n",
    "df.head()"
   ]
  },
  {
   "cell_type": "code",
   "execution_count": 14,
   "metadata": {
    "collapsed": false
   },
   "outputs": [],
   "source": [
    "# Create new additional features\n",
    "df['avg_char_length_per_review'] = df.review_char_length / df.num_reviews\n",
    "df['avg_num_words_per_review'] = df.review_num_words / df.num_reviews\n",
    "\n",
    "df['avg_char_length_per_rating'] = df.review_char_length / df.average_rating\n",
    "df['avg_num_words_per_rating'] = df.review_num_words / df.average_rating\n",
    "\n",
    "df['avg_word_length'] = df.review_char_length / df.review_num_words\n",
    "\n",
    "df['weighted_average'] = df['num_reviews'] * df['average_rating']\n",
    "\n",
    "df['char_length_times_subjectivity'] = df.review_char_length * df.subjectivity\n",
    "df['char_length_times_polarity'] = df.review_char_length * df.polarity\n",
    "\n",
    "df['num_words_times_subjectivity'] = df.review_num_words * df.subjectivity\n",
    "df['num_words_times_polarity'] = df.review_num_words * df.polarity\n",
    "\n",
    "df['num_reviews_times_subjectivity'] = df.num_reviews * df.subjectivity\n",
    "df['num_reviews_times_polarity'] = df.num_reviews * df.polarity\n",
    "\n",
    "df['average_rating_times_subjectivity'] = df.average_rating * df.subjectivity\n",
    "df['average_rating_times_polarity'] = df.average_rating * df.polarity"
   ]
  },
  {
   "cell_type": "code",
   "execution_count": 15,
   "metadata": {
    "collapsed": false
   },
   "outputs": [
    {
     "data": {
      "text/plain": [
       "(546, 1)"
      ]
     },
     "execution_count": 15,
     "metadata": {},
     "output_type": "execute_result"
    }
   ],
   "source": [
    "df_train_y.shape"
   ]
  },
  {
   "cell_type": "code",
   "execution_count": 16,
   "metadata": {
    "collapsed": false
   },
   "outputs": [
    {
     "data": {
      "text/plain": [
       "(13299, 61488)"
      ]
     },
     "execution_count": 16,
     "metadata": {},
     "output_type": "execute_result"
    }
   ],
   "source": [
    "df.shape"
   ]
  },
  {
   "cell_type": "code",
   "execution_count": 17,
   "metadata": {
    "collapsed": false
   },
   "outputs": [
    {
     "name": "stdout",
     "output_type": "stream",
     "text": [
      "(546, 61488)\n",
      "(12753, 61488)\n"
     ]
    }
   ],
   "source": [
    "#Split the data into training and testing sets\n",
    "df_train = df[df_labels.failed_ind != \"[None]\"]\n",
    "print df_train.shape\n",
    "#df_train.to_csv(path + \"training.csv\")\n",
    "\n",
    "df_test = df[df_labels.failed_ind ==\"[None]\"]\n",
    "print df_test.shape\n",
    "#df_test.to_csv(path + \"testing.csv\")"
   ]
  },
  {
   "cell_type": "markdown",
   "metadata": {},
   "source": [
    "# Modeling"
   ]
  },
  {
   "cell_type": "markdown",
   "metadata": {},
   "source": [
    "### Random Forest"
   ]
  },
  {
   "cell_type": "code",
   "execution_count": 21,
   "metadata": {
    "collapsed": true
   },
   "outputs": [],
   "source": [
    "from sklearn import preprocessing\n",
    "lb = preprocessing.LabelBinarizer()\n",
    "temp = np.array([number[0] for number in lb.fit_transform(df_train_y.failed_ind.values)])"
   ]
  },
  {
   "cell_type": "code",
   "execution_count": 22,
   "metadata": {
    "collapsed": false
   },
   "outputs": [
    {
     "data": {
      "image/png": "[encoded data removed]",
      "text/plain": [
       "<matplotlib.figure.Figure at 0x2a7044668>"
      ]
     },
     "metadata": {},
     "output_type": "display_data"
    }
   ],
   "source": [
    "from sklearn.ensemble import RandomForestClassifier\n",
    "from sklearn import cross_validation, grid_search\n",
    "\n",
    "#Fit a random forest model with 500 trees ti identify feature importance\n",
    "est_rfc = RandomForestClassifier(n_estimators=500).fit(df_train.values, df_train_y.failed_ind.values)\n",
    "\n",
    "# Visualize feature importance\n",
    "plt.style.use('fivethirtyeight')\n",
    "ax = pd.DataFrame({'importance' : est_rfc.feature_importances_},\n",
    "             index = df_train.columns).sort_values('importance',\n",
    "                                                   ascending=True).tail(20).plot(kind = 'barh', legend=False,\n",
    "                                                                                 figsize=(20,10),\n",
    "                                                                                 fontsize=17,\n",
    "                                                                                 title = 'Random Forest Top 20 Important Features');\n",
    "\n",
    "ax.tick_params(axis='x', colors='#303030')\n",
    "ax.tick_params(axis='y', colors='#303030')\n",
    "ax.xaxis.label.set_color('#303030')\n",
    "\n",
    "plt.tight_layout()\n",
    "plt.savefig(path + 'random_forest_var_imp_with_lr_vars.png') "
   ]
  },
  {
   "cell_type": "code",
   "execution_count": 23,
   "metadata": {
    "collapsed": false
   },
   "outputs": [
    {
     "name": "stdout",
     "output_type": "stream",
     "text": [
      "Wall time: 593 ms\n",
      "Wall time: 4min 9s\n"
     ]
    }
   ],
   "source": [
    "#Create a list of feautres in order of importance\n",
    "rfc_var_imp = pd.DataFrame({'importance' : est_rfc.feature_importances_}, \n",
    "             index = df_train.columns).sort_values('importance', ascending=False).index\n",
    "\n",
    "#Sort the data features in order of feature importance\n",
    "%time df_train = df_train[rfc_var_imp]\n",
    "%time df_test = df_test[rfc_var_imp]"
   ]
  },
  {
   "cell_type": "code",
   "execution_count": 24,
   "metadata": {
    "collapsed": false
   },
   "outputs": [
    {
     "name": "stdout",
     "output_type": "stream",
     "text": [
      "Top # of features 166\n"
     ]
    }
   ],
   "source": [
    "# Random Forest Feature Selection\n",
    "# Create expanding loop capturing 2 additional features each loop and \n",
    "# calculate the cross-validation score per grouping of features\n",
    "i=2 #Start with the first two most important variables\n",
    "ls_i=[]\n",
    "ls_mean=[]\n",
    "ls_std = []\n",
    "\n",
    "while i < 200: #Don't consider more than the top 200 features\n",
    "    \n",
    "    rf2_scores = cross_validation.cross_val_score(est_rfc, \n",
    "          df_train.iloc[:,0:i].values, \n",
    "          temp,\n",
    "          cv=3, \n",
    "          scoring=\"f1\", \n",
    "          verbose=0)\n",
    "    \n",
    "    ls_i.append(i)\n",
    "    ls_mean.append(np.mean(rf2_scores))\n",
    "    ls_std.append(np.std(rf2_scores))\n",
    "    \n",
    "    i = i + 2\n",
    "\n",
    "\n",
    "df_var_selection_lr = pd.DataFrame({'num_vars':ls_i, 'mean':ls_mean, 'std':ls_std})\n",
    "df_var_selection_lr = df_var_selection_lr.sort_values('mean', ascending=False)\n",
    "top_num_features = int(df_var_selection_lr.iloc[0][1])\n",
    "print \"Top # of features\", top_num_features"
   ]
  },
  {
   "cell_type": "code",
   "execution_count": 25,
   "metadata": {
    "collapsed": false
   },
   "outputs": [
    {
     "data": {
      "image/png": "[encoded data removed]",
      "text/plain": [
       "<matplotlib.figure.Figure at 0x2c6cd1ef0>"
      ]
     },
     "metadata": {},
     "output_type": "display_data"
    }
   ],
   "source": [
    "#Visualize the F1 score for every additional two variables added to identify the best CV score\n",
    "plt.style.use('fivethirtyeight')\n",
    "df_var_selection_lr.drop('std', axis=1).set_index('num_vars').sort_index().plot(fontsize=17, figsize=(20,5), legend=False);\n",
    "\n",
    "plt.title('Random Forest F1 Score by # of Strongest Features', \n",
    "          loc='left', y=1.1, fontsize = 30, fontweight=\"bold\", color='#404040');\n",
    "\n",
    "ax.tick_params(axis='x', colors='#303030')\n",
    "ax.tick_params(axis='y', colors='#303030')\n",
    "ax.xaxis.label.set_color('#303030')\n",
    "\n",
    "plt.tight_layout()\n",
    "plt.savefig(path + 'random_forest_performance_top_200.png')"
   ]
  },
  {
   "cell_type": "code",
   "execution_count": 26,
   "metadata": {
    "collapsed": false
   },
   "outputs": [
    {
     "data": {
      "text/html": [
       "<div>\n",
       "<table border=\"1\" class=\"dataframe\">\n",
       "  <thead>\n",
       "    <tr style=\"text-align: right;\">\n",
       "      <th></th>\n",
       "      <th>mean</th>\n",
       "      <th>num_vars</th>\n",
       "      <th>std</th>\n",
       "    </tr>\n",
       "  </thead>\n",
       "  <tbody>\n",
       "    <tr>\n",
       "      <th>82</th>\n",
       "      <td>0.652136</td>\n",
       "      <td>166</td>\n",
       "      <td>0.026462</td>\n",
       "    </tr>\n",
       "    <tr>\n",
       "      <th>94</th>\n",
       "      <td>0.649596</td>\n",
       "      <td>190</td>\n",
       "      <td>0.028229</td>\n",
       "    </tr>\n",
       "    <tr>\n",
       "      <th>87</th>\n",
       "      <td>0.647568</td>\n",
       "      <td>176</td>\n",
       "      <td>0.022730</td>\n",
       "    </tr>\n",
       "    <tr>\n",
       "      <th>86</th>\n",
       "      <td>0.645541</td>\n",
       "      <td>174</td>\n",
       "      <td>0.036770</td>\n",
       "    </tr>\n",
       "    <tr>\n",
       "      <th>83</th>\n",
       "      <td>0.642795</td>\n",
       "      <td>168</td>\n",
       "      <td>0.031505</td>\n",
       "    </tr>\n",
       "  </tbody>\n",
       "</table>\n",
       "</div>"
      ],
      "text/plain": [
       "        mean  num_vars       std\n",
       "82  0.652136       166  0.026462\n",
       "94  0.649596       190  0.028229\n",
       "87  0.647568       176  0.022730\n",
       "86  0.645541       174  0.036770\n",
       "83  0.642795       168  0.031505"
      ]
     },
     "execution_count": 26,
     "metadata": {},
     "output_type": "execute_result"
    }
   ],
   "source": [
    "#View the logs to idenify the best F1 Score from CV results\n",
    "df_var_selection_lr.head(5)"
   ]
  },
  {
   "cell_type": "code",
   "execution_count": 28,
   "metadata": {
    "collapsed": true
   },
   "outputs": [],
   "source": [
    "#Fit the final model with the best features and hyper parameters.\n",
    "est_rfc2 = RandomForestClassifier(n_estimators=500, min_samples_split=2, min_samples_leaf=2).fit(df_train.iloc[:,0:top_num_features].values, \n",
    "                                                                          df_train_y.failed_ind.values)\n",
    "\n",
    "rf_predictions = pd.DataFrame({'NathanG':est_rfc2.predict(df_test.iloc[:,0:top_num_features].values)})\n",
    "\n",
    "#Write predictions for submission\n",
    "rf_predictions.to_csv(path + 'rf_predictions.csv', index=False) "
   ]
  }
 ],
 "metadata": {
  "kernelspec": {
   "display_name": "Python 2",
   "language": "python",
   "name": "python2"
  },
  "language_info": {
   "codemirror_mode": {
    "name": "ipython",
    "version": 2
   },
   "file_extension": ".py",
   "mimetype": "text/x-python",
   "name": "python",
   "nbconvert_exporter": "python",
   "pygments_lexer": "ipython2",
   "version": "2.7.11"
  }
 },
 "nbformat": 4,
 "nbformat_minor": 0
}
